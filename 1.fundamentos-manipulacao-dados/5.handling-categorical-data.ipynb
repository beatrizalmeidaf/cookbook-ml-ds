{
 "cells": [
  {
   "cell_type": "markdown",
   "metadata": {},
   "source": [
    "# Handling Categorical Data\n"
   ]
  },
  {
   "cell_type": "markdown",
   "metadata": {},
   "source": [
    "## Encoding Nominal Categorical Features\n",
    "\n",
    "### Problema  \n",
    "Possui uma variável categórica **nominal** (sem ordenação intrínseca), como tipos de frutas: *apple, pear, banana*.\n",
    "\n",
    "### Solução  \n",
    "Utilizar **one-hot encoding** com `LabelBinarizer` do `scikit-learn`, transformando cada categoria em uma nova variável binária."
   ]
  },
  {
   "cell_type": "code",
   "execution_count": 5,
   "metadata": {},
   "outputs": [],
   "source": [
    "import numpy as np\n",
    "import pandas as pd\n",
    "from sklearn.preprocessing import LabelBinarizer, MultiLabelBinarizer"
   ]
  },
  {
   "cell_type": "code",
   "execution_count": 3,
   "metadata": {},
   "outputs": [
    {
     "data": {
      "text/plain": [
       "array([['Texas'],\n",
       "       ['California'],\n",
       "       ['Texas'],\n",
       "       ['Delaware'],\n",
       "       ['Texas']], dtype='<U10')"
      ]
     },
     "execution_count": 3,
     "metadata": {},
     "output_type": "execute_result"
    }
   ],
   "source": [
    "feature = np.array([[\"Texas\"],\n",
    "                    [\"California\"],\n",
    "                    [\"Texas\"],\n",
    "                    [\"Delaware\"],\n",
    "                    [\"Texas\"]])\n",
    "feature"
   ]
  },
  {
   "cell_type": "code",
   "execution_count": 4,
   "metadata": {},
   "outputs": [
    {
     "data": {
      "text/plain": [
       "array([[0, 0, 1],\n",
       "       [1, 0, 0],\n",
       "       [0, 0, 1],\n",
       "       [0, 1, 0],\n",
       "       [0, 0, 1]])"
      ]
     },
     "execution_count": 4,
     "metadata": {},
     "output_type": "execute_result"
    }
   ],
   "source": [
    "one_hot = LabelBinarizer()\n",
    "encoding = one_hot.fit_transform(feature)\n",
    "\n",
    "encoding"
   ]
  },
  {
   "cell_type": "markdown",
   "metadata": {},
   "source": [
    "#### Se cada item tem apenas um rótulo, usar LabelBinarizer.\n",
    "#### Se cada item pode ter múltiplos rótulos, usar MultiLabelBinarizer"
   ]
  },
  {
   "cell_type": "code",
   "execution_count": null,
   "metadata": {},
   "outputs": [
    {
     "data": {
      "text/plain": [
       "[('Texas', 'Florida'),\n",
       " ('California', 'Alabama'),\n",
       " ('Texas', 'Florida'),\n",
       " ('Delware', 'Florida'),\n",
       " ('Texas', 'Alabama')]"
      ]
     },
     "execution_count": 6,
     "metadata": {},
     "output_type": "execute_result"
    }
   ],
   "source": [
    "multiclass_feature = [(\"Texas\", \"Florida\"), \n",
    "                        (\"California\", \"Alabama\"),\n",
    "                        (\"Texas\", \"Florida\"),\n",
    "                        (\"Delware\", \"Florida\"),\n",
    "                        (\"Texas\", \"Alabama\")]\n",
    "multiclass_feature"
   ]
  },
  {
   "cell_type": "code",
   "execution_count": 8,
   "metadata": {},
   "outputs": [
    {
     "data": {
      "text/plain": [
       "array([[0, 0, 0, 1, 1],\n",
       "       [1, 1, 0, 0, 0],\n",
       "       [0, 0, 0, 1, 1],\n",
       "       [0, 0, 1, 1, 0],\n",
       "       [1, 0, 0, 0, 1]])"
      ]
     },
     "execution_count": 8,
     "metadata": {},
     "output_type": "execute_result"
    }
   ],
   "source": [
    "one_hot_multiclass = MultiLabelBinarizer()\n",
    "\n",
    "multilabel = one_hot_multiclass.fit_transform(multiclass_feature)\n",
    "multilabel"
   ]
  },
  {
   "cell_type": "markdown",
   "metadata": {},
   "source": [
    "## Handling Imbalanced Classes\n",
    "\n",
    "Quando um conjunto de dados tem uma **distribuição desigual entre classes**, os modelos de machine learning podem ficar tendenciosos para a classe majoritária. Exemplo:\n",
    "\n",
    "| Classe | Quantidade |\n",
    "|--------|-----------|\n",
    "| 0 (Negativo) | 950 |\n",
    "| 1 (Positivo) | 50  |\n",
    "\n",
    "Se um modelo prever sempre **0**, ele ainda terá **95% de acurácia**, mas falha em identificar a minoria.\n",
    "\n",
    "---\n",
    "\n",
    "### Estratégias para Lidar com Desbalanceamento\n",
    "\n",
    "#### **Reamostragem dos Dados**\n",
    "- **Oversampling** (aumentar a classe minoritária)\n",
    "- **Undersampling** (reduzir a classe majoritária)\n"
   ]
  }
 ],
 "metadata": {
  "kernelspec": {
   "display_name": "estatistica",
   "language": "python",
   "name": "python3"
  },
  "language_info": {
   "codemirror_mode": {
    "name": "ipython",
    "version": 3
   },
   "file_extension": ".py",
   "mimetype": "text/x-python",
   "name": "python",
   "nbconvert_exporter": "python",
   "pygments_lexer": "ipython3",
   "version": "3.13.1"
  }
 },
 "nbformat": 4,
 "nbformat_minor": 2
}
