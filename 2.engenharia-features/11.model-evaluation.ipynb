{
 "cells": [
  {
   "cell_type": "markdown",
   "id": "b25a919a",
   "metadata": {},
   "source": [
    "# Model Evaluation"
   ]
  },
  {
   "cell_type": "markdown",
   "id": "02b74f36",
   "metadata": {},
   "source": [
    "## Validação Cruzada de Modelos (Cross-Validating Models)\n",
    "\n",
    "### Objetivo\n",
    "Avaliar quão bem um modelo de aprendizado supervisionado funciona no **mundo real**, ou seja, em **dados que ele nunca viu antes**.\n",
    "\n",
    "### Validação Simples (Hold-out)\n",
    "- Os dados são divididos em **conjunto de treino** e **conjunto de teste**.\n",
    "- Treina-se o modelo com o conjunto de treino e avalia-se com o teste.\n",
    "- **Limitações**:\n",
    "  1. O desempenho depende de como os dados foram divididos.\n",
    "  2. Nem todos os dados são usados no treinamento ou avaliação.\n",
    "\n",
    "### Validação Cruzada k-Fold (K-Fold Cross-Validation)\n",
    "- Os dados são divididos em `k` partes chamadas *folds*.\n",
    "- O modelo é treinado com `k-1` folds e testado com o fold restante.\n",
    "- Esse processo se repete `k` vezes, mudando o fold de teste a cada rodada.\n",
    "- A média dos resultados das `k` rodadas fornece uma estimativa confiável.\n",
    "\n",
    "\n",
    "### Boas Práticas com K-Fold\n",
    "1. **Assumir dados independentes** (IID): importante embaralhar os dados (`shuffle=True`).\n",
    "2. **Estratificação (Stratified K-Fold)**: garante que a proporção de classes no target seja mantida em cada fold (ex: 80% homens, 20% mulheres em cada divisão).\n",
    "3. **Pré-processamento só com dados de treino**:\n",
    "   - Calcular média, desvio padrão, normalizações e seleções de features **somente no conjunto de treino**.\n",
    "   - Aplicar as transformações tanto ao treino quanto ao teste depois.\n",
    "   - Isso evita *vazamento de dados* (data leakage), que pode comprometer a avaliação.\n",
    "\n",
    "### Pipelines no scikit-learn\n",
    "O uso de pipelines facilita a aplicação correta de pré-processamento + treinamento do modelo. E com `cross_val_score`, o scikit-learn automatiza o processo de validação cruzada, utilizando todos os recursos computacionais disponíveis (`n_jobs=-1`)."
   ]
  },
  {
   "cell_type": "code",
   "execution_count": 4,
   "id": "11edb170",
   "metadata": {},
   "outputs": [],
   "source": [
    "from sklearn import datasets\n",
    "from sklearn import metrics\n",
    "from sklearn.model_selection import KFold, cross_val_score, train_test_split\n",
    "from sklearn.pipeline import make_pipeline\n",
    "from sklearn.linear_model import LogisticRegression\n",
    "from sklearn.preprocessing import StandardScaler"
   ]
  },
  {
   "cell_type": "code",
   "execution_count": 2,
   "id": "d6fd6fc3",
   "metadata": {},
   "outputs": [
    {
     "data": {
      "text/plain": [
       "np.float64(0.9699472377405337)"
      ]
     },
     "execution_count": 2,
     "metadata": {},
     "output_type": "execute_result"
    }
   ],
   "source": [
    "digits = datasets.load_digits()\n",
    "\n",
    "features = digits.data\n",
    "target = digits.target\n",
    "\n",
    "stdscaler = StandardScaler()\n",
    "\n",
    "logit = LogisticRegression()\n",
    "\n",
    "pipeline = make_pipeline(stdscaler, logit)\n",
    "\n",
    "kf = KFold(n_splits=10, shuffle=True, random_state=1)\n",
    "\n",
    "results = cross_val_score(pipeline, features, target, cv=kf, scoring=\"accuracy\", n_jobs=-1)\n",
    "\n",
    "results.mean()"
   ]
  },
  {
   "cell_type": "code",
   "execution_count": 3,
   "id": "9a00daa2",
   "metadata": {},
   "outputs": [
    {
     "data": {
      "text/plain": [
       "array([0.97777778, 0.98888889, 0.96111111, 0.94444444, 0.97777778,\n",
       "       0.98888889, 0.95555556, 0.98882682, 0.97765363, 0.93854749])"
      ]
     },
     "execution_count": 3,
     "metadata": {},
     "output_type": "execute_result"
    }
   ],
   "source": [
    "results"
   ]
  },
  {
   "cell_type": "markdown",
   "id": "8abf9936",
   "metadata": {},
   "source": [
    "## Baseline Regression Model\n",
    "\n",
    "### Objetivo\n",
    "\n",
    "Criar um modelo de regressão simples, que funcione como **referência inicial (baseline)** para avaliar o desempenho de modelos mais sofisticados.\n",
    "\n",
    "### Solução\n",
    "\n",
    "Utiliza-se o `DummyRegressor`, da biblioteca **scikit-learn**, que gera previsões com base em estratégias triviais, como a média ou mediana do valor alvo (target).\n",
    "\n",
    "### Motivação\n",
    "\n",
    "Modelos de regressão base são úteis para:\n",
    "\n",
    "- Estabelecer um **ponto de comparação mínimo**.\n",
    "- Verificar se um modelo real **aprende algo relevante** em comparação com uma estratégia ingênua.\n",
    "- Simular comportamentos existentes em sistemas legados (exemplo: assumir que todos os clientes gastarão um valor fixo).\n",
    "\n",
    "### Estratégias disponíveis no `DummyRegressor`\n",
    "\n",
    "- `mean`: prevê a **média** dos valores do conjunto de treino.\n",
    "- `median`: prevê a **mediana** dos valores do conjunto de treino.\n",
    "- `constant`: prevê um valor **constante** definido pelo usuário (`constant=valor`).\n",
    "\n",
    "### Avaliação com R² (coeficiente de determinação)\n",
    "\n",
    "Por padrão, o método `.score()` retorna o R², uma métrica que indica a proporção da variância do target explicada pelo modelo\n",
    "\n",
    "### Exemplo de comparação\n",
    "\n",
    "- `DummyRegressor (mean)`: R² ≈ -0.001 → desempenho nulo ou inferior a uma previsão trivial.\n",
    "- `LinearRegression`: R² ≈ 0.63 → explica cerca de 63% da variância dos dados.\n",
    "\n",
    "### Conclusão\n",
    "\n",
    "O uso do `DummyRegressor` é uma prática recomendada para:\n",
    "\n",
    "- Comparar modelos de regressão com uma **base mínima de desempenho**.\n",
    "- Validar se os modelos treinados apresentam ganhos reais em relação a estratégias simples.\n",
    "- Justificar a complexidade e os custos computacionais de modelos mais robustos."
   ]
  },
  {
   "cell_type": "code",
   "execution_count": 10,
   "id": "6ae3726e",
   "metadata": {},
   "outputs": [
    {
     "data": {
      "text/plain": [
       "-0.0445013657114155"
      ]
     },
     "execution_count": 10,
     "metadata": {},
     "output_type": "execute_result"
    }
   ],
   "source": [
    "from sklearn.datasets import make_regression\n",
    "from sklearn.dummy import DummyRegressor\n",
    "\n",
    "features, target = make_regression(n_samples=500, n_features=5, noise=10, random_state=42)\n",
    "\n",
    "features_train, features_test, target_train, target_test = train_test_split(features, target, random_state=0)\n",
    "\n",
    "# dummy regressor\n",
    "dummy = DummyRegressor(strategy='mean')\n",
    "\n",
    "# treina dummy regressor\n",
    "dummy.fit(features_train, target_train)\n",
    "\n",
    "dummy.score(features_test, target_test)"
   ]
  },
  {
   "cell_type": "code",
   "execution_count": 11,
   "id": "d347893d",
   "metadata": {},
   "outputs": [
    {
     "data": {
      "text/plain": [
       "0.9917075029164429"
      ]
     },
     "execution_count": 11,
     "metadata": {},
     "output_type": "execute_result"
    }
   ],
   "source": [
    "from sklearn.linear_model import LinearRegression\n",
    "\n",
    "ols = LinearRegression()\n",
    "ols.fit(features_train, target_train)\n",
    "ols.score(features_test, target_test)"
   ]
  },
  {
   "cell_type": "markdown",
   "id": "47b9009d",
   "metadata": {},
   "source": [
    "#### Essa comparação serve para:\n",
    "\n",
    "- Validar se seu modelo realmente está aprendendo, ou só reproduz algo trivial.\n",
    "- Justificar o uso de modelos mais sofisticados (em relatórios, apresentações, etc.).\n",
    "- Garantir que o desempenho obtido não é fruto do acaso ou de um padrão óbvio."
   ]
  },
  {
   "cell_type": "markdown",
   "id": "0dd5b40f",
   "metadata": {},
   "source": [
    "## Evaluating Binary Classifier Predictions\n",
    "\n",
    "### Problema\n",
    "\n",
    "Dado um modelo de classificação treinado, você deseja avaliar a qualidade de suas previsões.\n",
    "\n",
    "### Solução\n",
    "\n",
    "Utilize a função `cross_val_score` do **scikit-learn** com o parâmetro `scoring` para definir a métrica de avaliação desejada, como **accuracy**, **precision**, **recall** ou **f1**.\n",
    "\n",
    "### Métricas de Avaliação\n",
    "\n",
    "#### 1. **Acurácia (Accuracy)**\n",
    "\n",
    "Proporção de observações previstas corretamente. Embora intuitiva, a acurácia **pode ser enganosa em bases desbalanceadas**.\n",
    "\n",
    "#### 2. **Precisão (Precision)**\n",
    "\n",
    "Indica quantas das previsões positivas realmente são positivas. Modelos com alta precisão são mais **conservadores** ao prever a classe positiva.\n",
    "\n",
    "#### 3. **Revocação (Recall)**\n",
    "\n",
    "Indica quantas das observações positivas reais foram identificadas corretamente. Modelos com alto recall são mais **otimistas**, mesmo com risco de mais falsos positivos.\n",
    "\n",
    "#### 4. **F1 Score**\n",
    "\n",
    "É a média harmônica entre precisão e recall. É útil quando se busca um **equilíbrio** entre precisão e recall."
   ]
  },
  {
   "cell_type": "code",
   "execution_count": 12,
   "id": "cebde1be",
   "metadata": {},
   "outputs": [
    {
     "name": "stdout",
     "output_type": "stream",
     "text": [
      "Accuracy: [0.9555 0.95   0.9585 0.9555 0.956 ]\n",
      "Precision: [0.95963673 0.94820717 0.9635996  0.96149949 0.96060606]\n",
      "Recall: [0.951 0.952 0.953 0.949 0.951]\n",
      "F1 Score: [0.95529884 0.9500998  0.95827049 0.95520886 0.95577889]\n",
      "Direct Accuracy: 0.947\n",
      "Direct Precision: 0.9531568228105907\n",
      "Direct Recall: 0.9397590361445783\n",
      "Direct F1 Score: 0.9464105156723963\n"
     ]
    }
   ],
   "source": [
    "from sklearn.model_selection import cross_val_score, train_test_split\n",
    "from sklearn.linear_model import LogisticRegression\n",
    "from sklearn.datasets import make_classification\n",
    "from sklearn.metrics import accuracy_score, precision_score, recall_score, f1_score\n",
    "\n",
    "X, y = make_classification(\n",
    "    n_samples=10000,\n",
    "    n_features=3,\n",
    "    n_informative=3,\n",
    "    n_redundant=0,\n",
    "    n_classes=2,\n",
    "    random_state=1\n",
    ")\n",
    "\n",
    "\n",
    "logit = LogisticRegression()\n",
    "\n",
    "# avaliar acurácia via validação cruzada\n",
    "accuracy = cross_val_score(logit, X, y, scoring=\"accuracy\")\n",
    "print(\"Accuracy:\", accuracy)\n",
    "\n",
    "# avaliar precisão via validação cruzada\n",
    "precision = cross_val_score(logit, X, y, scoring=\"precision\")\n",
    "print(\"Precision:\", precision)\n",
    "\n",
    "# avaliar revocação via validação cruzada\n",
    "recall = cross_val_score(logit, X, y, scoring=\"recall\")\n",
    "print(\"Recall:\", recall)\n",
    "\n",
    "# avaliar F1 via validação cruzada\n",
    "f1 = cross_val_score(logit, X, y, scoring=\"f1\")\n",
    "print(\"F1 Score:\", f1)\n",
    "\n",
    "# fazer split do conjunto para avaliação direta\n",
    "X_train, X_test, y_train, y_test = train_test_split(X, y, test_size=0.1, random_state=1)\n",
    "\n",
    "# treinar modelo e prever\n",
    "y_pred = logit.fit(X_train, y_train).predict(X_test)\n",
    "\n",
    "# avaliar métricas diretamente\n",
    "print(\"Direct Accuracy:\", accuracy_score(y_test, y_pred))\n",
    "print(\"Direct Precision:\", precision_score(y_test, y_pred))\n",
    "print(\"Direct Recall:\", recall_score(y_test, y_pred))\n",
    "print(\"Direct F1 Score:\", f1_score(y_test, y_pred))"
   ]
  },
  {
   "cell_type": "markdown",
   "id": "54734215",
   "metadata": {},
   "source": [
    "##  Evaluating Binary Classifier Thresholds\n",
    "\n",
    "### Problema  \n",
    "Você deseja avaliar um classificador binário em diferentes limiares de probabilidade.\n",
    "\n",
    "### Solução  \n",
    "A **curva ROC (Receiver Operating Characteristic)** é um método comum para avaliar a qualidade de um classificador binário. A curva ROC compara a presença de verdadeiros positivos e falsos positivos em todos os limiares de probabilidade (isto é, a probabilidade a partir da qual uma observação é prevista como sendo de determinada classe).\n",
    "\n",
    "Um classificador perfeito sobe verticalmente até o topo esquerdo da curva ROC, enquanto um classificador aleatório se aproxima de uma linha diagonal. Quanto mais próxima do canto superior esquerdo estiver a curva, melhor o desempenho do modelo.\n",
    "\n",
    "Em `scikit-learn`, utilizamos `roc_curve` para calcular as taxas de verdadeiros e falsos positivos em cada limiar e, em seguida, plotamos os resultados.\n",
    "\n",
    "### Probabilidades\n",
    "\n",
    "Modelos de aprendizado geralmente fazem previsões baseadas em **probabilidades estimadas**, e não apenas em classes. A função `predict_proba` mostra essas probabilidades.\n",
    "\n",
    "Por padrão, `scikit-learn` usa um **limiar de 0.5**, ou seja, a observação é classificada como positiva se a probabilidade for maior que 0.5. Porém, esse limiar pode ser ajustado com base no contexto. Por exemplo:\n",
    "\n",
    "- Se **falsos positivos** são muito caros, preferimos um limiar mais alto.\n",
    "- Se queremos **não perder nenhum positivo**, podemos abaixar o limiar.\n",
    "\n",
    "### Área sob a Curva (AUC)\n",
    "\n",
    "A **área sob a curva ROC (AUCROC)** quantifica a qualidade geral do modelo. Quanto mais próximo de 1, melhor."
   ]
  },
  {
   "cell_type": "code",
   "execution_count": null,
   "id": "abc17476",
   "metadata": {},
   "outputs": [
    {
     "data": {
      "image/png": "[encoded data removed]",
      "text/plain": [
       "<Figure size 640x480 with 1 Axes>"
      ]
     },
     "metadata": {},
     "output_type": "display_data"
    }
   ],
   "source": [
    "import matplotlib.pyplot as plt\n",
    "from sklearn.metrics import roc_curve, roc_auc_score\n",
    "\n",
    "features, target = make_classification(n_samples=10000,\n",
    "                                       n_features=10,\n",
    "                                       n_classes=2,\n",
    "                                       n_informative=3,\n",
    "                                       random_state=3)\n",
    "\n",
    "features_train, features_test, target_train, target_test = train_test_split(\n",
    "    features, target, test_size=0.1, random_state=1)\n",
    "\n",
    "\n",
    "logit = LogisticRegression()\n",
    "logit.fit(features_train, target_train)\n",
    "\n",
    "# obter probabilidades previstas\n",
    "target_probabilities = logit.predict_proba(features_test)[:, 1]\n",
    "\n",
    "# calcular taxas de verdadeiros e falsos positivos\n",
    "false_positive_rate, true_positive_rate, threshold = roc_curve(target_test, target_probabilities)\n",
    "\n",
    "# curva ROC\n",
    "plt.title(\"Receiver Operating Characteristic\")\n",
    "plt.plot(false_positive_rate, true_positive_rate)\n",
    "plt.plot([0, 1], ls=\"--\")  # linha diagonal\n",
    "plt.plot([0, 0], [1, 0], c=\".7\")\n",
    "plt.plot([1, 1], c=\".7\")\n",
    "plt.ylabel(\"True Positive Rate\")\n",
    "plt.xlabel(\"False Positive Rate\")\n",
    "plt.show()"
   ]
  },
  {
   "cell_type": "code",
   "execution_count": 14,
   "id": "cab67e01",
   "metadata": {},
   "outputs": [
    {
     "data": {
      "text/plain": [
       "np.float64(0.9073429371748699)"
      ]
     },
     "execution_count": 14,
     "metadata": {},
     "output_type": "execute_result"
    }
   ],
   "source": [
    "roc_auc_score(target_test, target_probabilities)"
   ]
  },
  {
   "cell_type": "markdown",
   "id": "020958b9",
   "metadata": {},
   "source": [
    "## Visualizing a Classifier’s Performance\n",
    "\n",
    "### Problema\n",
    "Dadas as classes previstas e as classes verdadeiras dos dados de teste, você quer comparar visualmente\n",
    "a qualidade do modelo.\n",
    "\n",
    "### Solução\n",
    "Usar uma matriz de confusão, que compara classes previstas e classes verdadeiras."
   ]
  },
  {
   "cell_type": "code",
   "execution_count": 15,
   "id": "c3647736",
   "metadata": {},
   "outputs": [
    {
     "data": {
      "image/png": "[encoded data removed]",
      "text/plain": [
       "<Figure size 600x400 with 1 Axes>"
      ]
     },
     "metadata": {},
     "output_type": "display_data"
    }
   ],
   "source": [
    "from sklearn.metrics import confusion_matrix, ConfusionMatrixDisplay\n",
    "import seaborn as sns\n",
    "\n",
    "target_predicted = logit.predict(features_test)\n",
    "\n",
    "conf_matrix = confusion_matrix(target_test, target_predicted)\n",
    "\n",
    "# matriz de confusão\n",
    "plt.figure(figsize=(6, 4))\n",
    "sns.heatmap(conf_matrix, annot=True, fmt=\"d\", cmap=\"Blues\", cbar=False)\n",
    "plt.title(\"Matriz de Confusão\")\n",
    "plt.xlabel(\"Classe Prevista\")\n",
    "plt.ylabel(\"Classe Real\")\n",
    "plt.xticks([0.5, 1.5], labels=[\"Negativa (0)\", \"Positiva (1)\"])\n",
    "plt.yticks([0.5, 1.5], labels=[\"Negativa (0)\", \"Positiva (1)\"], rotation=0)\n",
    "plt.tight_layout()\n",
    "plt.show()"
   ]
  },
  {
   "cell_type": "markdown",
   "id": "e479ff72",
   "metadata": {},
   "source": [
    "## Evaluating Clustering Models\n",
    "\n",
    "### Problema\n",
    "Você aplicou um algoritmo de aprendizado não supervisionado (como K-Means) para agrupar seus dados e agora quer avaliar a qualidade dos agrupamentos obtidos.\n",
    "\n",
    "### Solução\n",
    "Como o aprendizado não supervisionado não possui rótulos verdadeiros, não é possível medir diretamente a \"exatidão\" dos clusters. No entanto, é possível avaliar a **qualidade dos agrupamentos** com o **coeficiente de silhueta (silhouette score)**.\n",
    "\n",
    "O **silhouette score** mede o quão bem uma amostra está agrupada com outras do mesmo cluster em comparação com amostras de outros clusters. O valor vai de -1 a 1:\n",
    "- Próximo de **1**: clusters densos e bem separados (ideal).\n",
    "- Próximo de **0**: clusters sobrepostos.\n",
    "- Próximo de **-1**: possíveis erros de agrupamento."
   ]
  },
  {
   "cell_type": "code",
   "execution_count": 17,
   "id": "ff195a34",
   "metadata": {},
   "outputs": [
    {
     "name": "stdout",
     "output_type": "stream",
     "text": [
      "Silhouette Score: 0.8916\n"
     ]
    }
   ],
   "source": [
    "import numpy as np\n",
    "from sklearn.datasets import make_blobs\n",
    "from sklearn.cluster import KMeans\n",
    "from sklearn.metrics import silhouette_score\n",
    "import matplotlib.pyplot as plt\n",
    "\n",
    "# dados simulados com 2 clusters\n",
    "features, _ = make_blobs(n_samples=1000,\n",
    "                         n_features=10,\n",
    "                         centers=2,\n",
    "                         cluster_std=0.5,\n",
    "                         shuffle=True,\n",
    "                         random_state=1)\n",
    "\n",
    "# modelo de clustering (K-Means)\n",
    "model = KMeans(n_clusters=2, random_state=1)\n",
    "model.fit(features)\n",
    "\n",
    "# obter rótulos previstos dos clusters\n",
    "target_predicted = model.labels_\n",
    "\n",
    "# avaliar com silhouette score\n",
    "score = silhouette_score(features, target_predicted)\n",
    "\n",
    "print(f\"Silhouette Score: {score:.4f}\")"
   ]
  }
 ],
 "metadata": {
  "kernelspec": {
   "display_name": "estatistica",
   "language": "python",
   "name": "python3"
  },
  "language_info": {
   "codemirror_mode": {
    "name": "ipython",
    "version": 3
   },
   "file_extension": ".py",
   "mimetype": "text/x-python",
   "name": "python",
   "nbconvert_exporter": "python",
   "pygments_lexer": "ipython3",
   "version": "3.13.1"
  }
 },
 "nbformat": 4,
 "nbformat_minor": 5
}
